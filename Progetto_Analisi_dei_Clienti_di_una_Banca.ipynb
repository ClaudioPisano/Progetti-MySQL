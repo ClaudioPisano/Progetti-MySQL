{
  "nbformat": 4,
  "nbformat_minor": 0,
  "metadata": {
    "colab": {
      "provenance": []
    },
    "kernelspec": {
      "name": "python3",
      "display_name": "Python 3"
    },
    "language_info": {
      "name": "python"
    }
  },
  "cells": [
    {
      "cell_type": "markdown",
      "source": [
        "**Progetto: Analisi dei Clienti di una Banca.**"
      ],
      "metadata": {
        "id": "aSUN3lSWp19a"
      }
    },
    {
      "cell_type": "markdown",
      "source": [
        "Obbiettivi consegna:\n",
        "\n",
        "età;\n",
        "\n",
        "numero di transazioni in uscita su tutti i conti;\n",
        "\n",
        "numero di transazioni in entrata su tutti i conti;\n",
        "\n",
        "importo transato in uscita su tutti i conti;\n",
        "\n",
        "importo transato in entrata su tutti i conti;\n",
        "\n",
        "numero totale di conti posseduti;\n",
        "\n",
        "numero di conti posseduti per tipologia (un indicatore per tipo);\n",
        "\n",
        "numero di transazioni in uscita per tipologia (un indicatore per tipo);\n",
        "\n",
        "numero di transazioni in entrata per tipologia (un indicatore per tipo);\n",
        "\n",
        "importo transato in uscita per tipologia di conto (un indicatore per tipo);\n",
        "\n",
        "importo transato in entrata per tipologia di conto (un indicatore per tipo)."
      ],
      "metadata": {
        "id": "NjIlnH2RpebZ"
      }
    },
    {
      "cell_type": "markdown",
      "source": [
        "*Età.*"
      ],
      "metadata": {
        "id": "V1f29DuPpony"
      }
    },
    {
      "cell_type": "markdown",
      "source": [
        "Creazione di una tabella temporanea composta dalla differenza tra l'anno della data odierna e l'anno del valore nel campo \"data_nascita\" per ottenere l'età.\n",
        "\n",
        "La \"data_nascita\" viene formattata in maniera tale da assicurare l'ordine richiesto dalla funzione year().\n",
        "\n",
        "La select dell'id_cliente verrà usato come chiave di join finale."
      ],
      "metadata": {
        "id": "NAXoSmC2sTb0"
      }
    },
    {
      "cell_type": "code",
      "source": [
        "create temporary table banca.età as\n",
        "select id_cliente,\n",
        "year(current_date()) - year(date_format(data_nascita, \"%Y-%m-%d\")) as età\n",
        "from banca.cliente;"
      ],
      "metadata": {
        "id": "6hiVCfMupC_t"
      },
      "execution_count": null,
      "outputs": []
    },
    {
      "cell_type": "markdown",
      "source": [
        "*Numero di transazioni in uscita su tutti i conti.*\n",
        "                            \n",
        "   "
      ],
      "metadata": {
        "id": "OXvV671jpw75"
      }
    },
    {
      "cell_type": "markdown",
      "source": [
        "Creazione di una tabella temporanea composta da una maschera booleana che verifica i record corrispondenti al tipo di transazione desiderata (in questo caso in uscita) valorizzandoli come 1 se ritorna True, per poi sommarli.\n",
        "\n",
        "Viene eseguita una join tra due tabella per ottenere anche il campo dell'id_cliente che verrà usato come chiave di join finale."
      ],
      "metadata": {
        "id": "dOFsR8Qstp3K"
      }
    },
    {
      "cell_type": "code",
      "source": [
        "create temporary table banca.n_transazioni_uscita as\n",
        "select conto.id_cliente,\n",
        "sum(case when id_tipo_trans in (3, 4, 5, 6, 7) then 1 else 0 end) as n_transazioni_uscita\n",
        "from banca.transazioni trans\n",
        "join banca.conto conto on trans.id_conto = conto.id_conto\n",
        "group by 1;"
      ],
      "metadata": {
        "id": "p_tFyTLlp0k6"
      },
      "execution_count": null,
      "outputs": []
    },
    {
      "cell_type": "markdown",
      "source": [
        "*Numero di transazioni in entrata su tutti i conti.*"
      ],
      "metadata": {
        "id": "xIq0b8PRqBkw"
      }
    },
    {
      "cell_type": "markdown",
      "source": [
        "Creazione di una tabella temporanea composta da una maschera booleana che verifica i record corrispondenti al tipo di transazione desiderata (in questo caso in entrata) valorizzandoli come 1 se ritorna True, per poi sommarli.\n",
        "\n",
        "Viene eseguita una join tra due tabella per ottenere anche il campo dell'id_cliente che verrà usato come chiave di join finale."
      ],
      "metadata": {
        "id": "J7QjnrTLu3N5"
      }
    },
    {
      "cell_type": "code",
      "source": [
        "create temporary table banca.n_transazioni_entrata as\n",
        "select conto.id_cliente,\n",
        "sum(case when id_tipo_trans in (0, 1, 2) then 1 else 0 end) as n_transazioni_entrata\n",
        "from banca.transazioni trans\n",
        "join banca.conto conto on trans.id_conto = conto.id_conto\n",
        "group by 1;"
      ],
      "metadata": {
        "id": "kbw1nQDlqB6A"
      },
      "execution_count": null,
      "outputs": []
    },
    {
      "cell_type": "markdown",
      "source": [
        "*Importo transato in uscita su tutti i conti.*"
      ],
      "metadata": {
        "id": "70PqBbzGqP_g"
      }
    },
    {
      "cell_type": "markdown",
      "source": [
        "Creazione di una tabella temporanea composta da una maschera booleana che verifica i record corrispondenti al tipo di transazione desiderata (in questo caso in uscita) valorizzandoli come l'importo stesso se ritorna True altrimenti 0 (False), per poi sommarli.\n",
        "\n",
        "Viene eseguita una join tra due tabella per ottenere anche il campo dell'id_cliente che verrà usato come chiave di join finale."
      ],
      "metadata": {
        "id": "DyGUi4W8vCfa"
      }
    },
    {
      "cell_type": "code",
      "source": [
        "create temporary table banca.importo_uscita as\n",
        "select conto.id_cliente,\n",
        "sum(case when id_tipo_trans in (3, 4, 5, 6, 7) then importo else 0 end) as importo_uscita\n",
        "from banca.transazioni trans\n",
        "join banca.conto conto on trans.id_conto = conto.id_conto\n",
        "group by 1;"
      ],
      "metadata": {
        "id": "g7HLerl9qQgC"
      },
      "execution_count": null,
      "outputs": []
    },
    {
      "cell_type": "markdown",
      "source": [
        "*Importo transato in entrata su tutti i conti.*"
      ],
      "metadata": {
        "id": "YbpEiBRRqadg"
      }
    },
    {
      "cell_type": "markdown",
      "source": [
        "Creazione di una tabella temporanea composta da una maschera booleana che verifica i record corrispondenti al tipo di transazione desiderata (in questo caso in entrata) valorizzandoli come l'importo stesso se ritorna True altrimenti 0 (False), per poi sommarli.\n",
        "\n",
        "Viene eseguita una join tra due tabella per ottenere anche il campo dell'id_cliente che verrà usato come chiave di join finale."
      ],
      "metadata": {
        "id": "VlzFR6qjvb20"
      }
    },
    {
      "cell_type": "code",
      "source": [
        "create temporary table banca.importo_entrata as\n",
        "select conto.id_cliente,\n",
        "sum(case when id_tipo_trans in (0, 1, 2) then importo else 0 end) as importo_entrata\n",
        "from banca.transazioni trans\n",
        "join banca.conto conto on trans.id_conto = conto.id_conto\n",
        "group by 1"
      ],
      "metadata": {
        "id": "Nd0aru_0qaq8"
      },
      "execution_count": null,
      "outputs": []
    },
    {
      "cell_type": "markdown",
      "source": [
        "*Numero totale di conti posseduti.*"
      ],
      "metadata": {
        "id": "FgNNvnnmqjjz"
      }
    },
    {
      "cell_type": "markdown",
      "source": [
        "Creazione di una tabella temporanea composta dal conteggio di tutti record associati al campo dell'id_cliente."
      ],
      "metadata": {
        "id": "RfCqZLYxvfx2"
      }
    },
    {
      "cell_type": "code",
      "source": [
        "create temporary table banca.totale_conti as\n",
        "select id_cliente,\n",
        "count(*) as numero_conti\n",
        "from banca.conto\n",
        "group by 1;"
      ],
      "metadata": {
        "id": "VovV6HfFqjz1"
      },
      "execution_count": null,
      "outputs": []
    },
    {
      "cell_type": "markdown",
      "source": [
        "*Numero di conti posseduti per tipologia (un indicatore per tipo).*"
      ],
      "metadata": {
        "id": "TW1ECHqbqsMc"
      }
    },
    {
      "cell_type": "markdown",
      "source": [
        "Creazione di una tabella temporanea composta da una maschera booleana che verifica i record corrispondenti al campo desiderato (in questo caso tipo di conto) valorizzandoli come 1 se ritorna True altrimenti 0 (False), per poi sommarli.\n",
        "\n",
        "La select dell'id_cliente verrà usato come chiave di join finale."
      ],
      "metadata": {
        "id": "tYaZfqxpwOau"
      }
    },
    {
      "cell_type": "code",
      "source": [
        "create temporary table banca.conti_tipo as\n",
        "select id_cliente,\n",
        "sum(case when id_tipo_conto = 0 then 1 else 0 end) as conto_base,\n",
        "sum(case when id_tipo_conto = 1 then 1 else 0 end) as conto_business,\n",
        "sum(case when id_tipo_conto = 2 then 1 else 0 end) as conto_privati,\n",
        "sum(case when id_tipo_conto = 3 then 1 else 0 end) as conto_famiglie\n",
        "from banca.conto\n",
        "group by 1;"
      ],
      "metadata": {
        "id": "ybBeW8Ftqsis"
      },
      "execution_count": null,
      "outputs": []
    },
    {
      "cell_type": "markdown",
      "source": [
        "*Numero di transazioni in uscita per tipologia (un indicatore per tipo).*"
      ],
      "metadata": {
        "id": "Donizn0hqzFE"
      }
    },
    {
      "cell_type": "markdown",
      "source": [
        "Creazione di una tabella temporanea composta da una maschera booleana che verifica i record corrispondenti al campo desiderato (in questo caso tipo transazione in uscita) valorizzandoli come 1 se ritorna True altrimenti 0 (False), per poi sommarli.\n",
        "\n",
        "Viene eseguita una join tra due tabella per ottenere anche il campo dell'id_cliente che verrà usato come chiave di join finale."
      ],
      "metadata": {
        "id": "DrkIONN0wzZN"
      }
    },
    {
      "cell_type": "code",
      "source": [
        "create temporary table banca.transazioni_uscita_tipo as\n",
        "select conto.id_cliente,\n",
        "sum(case when id_tipo_trans = 3 then 1 else 0 end) as acquisto_amazon_uscita,\n",
        "sum(case when id_tipo_trans = 4 then 1 else 0 end) as rata_mutuo_uscita,\n",
        "sum(case when id_tipo_trans = 5 then 1 else 0 end) as hotel_uscita,\n",
        "sum(case when id_tipo_trans = 6 then 1 else 0 end) as biglietto_aereo_uscita,\n",
        "sum(case when id_tipo_trans = 7 then 1 else 0 end) as supermercato_uscita\n",
        "from banca.transazioni trans\n",
        "join banca.conto conto on trans.id_conto = conto.id_conto\n",
        "group by 1;"
      ],
      "metadata": {
        "id": "yLo3grnmqzRf"
      },
      "execution_count": null,
      "outputs": []
    },
    {
      "cell_type": "markdown",
      "source": [
        "*Numero di transazioni in entrata per tipologia (un indicatore per tipo).*"
      ],
      "metadata": {
        "id": "jc4D2Ys7q69X"
      }
    },
    {
      "cell_type": "markdown",
      "source": [
        "Creazione di una tabella temporanea composta da una maschera booleana che verifica i record corrispondenti al campo desiderato (in questo caso \"tipo transazione\" in entrata) valorizzandoli come 1 se ritorna True altrimenti 0 (False), per poi sommarli.\n",
        "\n",
        "Viene eseguita una join tra due tabella per ottenere anche il campo dell'id_cliente che verrà usato come chiave di join finale."
      ],
      "metadata": {
        "id": "fTBETo99xLyE"
      }
    },
    {
      "cell_type": "code",
      "source": [
        "create temporary table banca.transazioni_entrata_tipo as\n",
        "select conto.id_cliente,\n",
        "sum(case when id_tipo_trans = 0 then 1 else 0 end) as stupendio_entrata,\n",
        "sum(case when id_tipo_trans = 1 then 1 else 0 end) as pensione_entrata,\n",
        "sum(case when id_tipo_trans = 2 then 1 else 0 end) as dividendi_entrata\n",
        "from banca.transazioni trans\n",
        "join banca.conto conto on trans.id_conto = conto.id_conto\n",
        "group by 1;"
      ],
      "metadata": {
        "id": "xJPaFY_Lq7Nw"
      },
      "execution_count": null,
      "outputs": []
    },
    {
      "cell_type": "markdown",
      "source": [
        "*Importo transato in uscita per tipologia di conto (un indicatore per tipo).*"
      ],
      "metadata": {
        "id": "2gV09vSTrFFm"
      }
    },
    {
      "cell_type": "markdown",
      "source": [
        "Creazione di una tabella temporanea composta da una maschera booleana che verifica i record corrispondenti al campo desiderato (in questo caso \"tipo conto\") e utilizzo del connettore logico \"and\" per verificare un ulteriore condizione per un differente campo (in questo caso importo minore di zero) valorizzandolo come l'importo stesso se entrambi ritornano True altrimenti 0 (False), per poi sommarli.\n",
        "\n",
        "Viene eseguita una join tra due tabella per ottenere anche il campo dell'id_cliente che verrà usato come chiave di join finale."
      ],
      "metadata": {
        "id": "jYQzm5ABxR30"
      }
    },
    {
      "cell_type": "code",
      "source": [
        "create temporary table banca.importo_uscita_tipo as\n",
        "select conto.id_cliente,\n",
        "sum(case when id_tipo_conto = 0 and importo < 0 then importo else 0 end) as importo_conto_base_uscita,\n",
        "sum(case when id_tipo_conto = 1 and importo < 0 then importo else 0 end) as importo_conto_business_uscita,\n",
        "sum(case when id_tipo_conto = 2 and importo < 0 then importo else 0 end) as importo_conto_privati_uscita,\n",
        "sum(case when id_tipo_conto = 3 and importo < 0 then importo else 0 end) as importo_conto_famiglie_uscita\n",
        "from banca.transazioni trans\n",
        "join banca.conto conto on trans.id_conto = conto.id_conto\n",
        "group by 1;"
      ],
      "metadata": {
        "id": "p6FszHXyrFyZ"
      },
      "execution_count": null,
      "outputs": []
    },
    {
      "cell_type": "markdown",
      "source": [
        "*Importo transato in entrata per tipologia di conto (un indicatore per tipo).*"
      ],
      "metadata": {
        "id": "T5jYZZsVrqh_"
      }
    },
    {
      "cell_type": "markdown",
      "source": [
        "Creazione di una tabella temporanea composta da una maschera booleana che verifica il record corrispondenti al campo desiderato (in questo caso \"tipo conto\") e utilizzo del connettore logico \"and\" per verificare un ulteriore condizione per un differente campo (in questo caso importo maggiore di zero) valorizzandolo come l'importo stesso se entrambi ritornano True altrimenti 0 (False), per poi sommarli.\n",
        "\n",
        "Viene eseguita una join tra due tabella per ottenere anche il campo dell'id_cliente che verrà usato come chiave di join finale."
      ],
      "metadata": {
        "id": "_SPhvYXoxtCE"
      }
    },
    {
      "cell_type": "code",
      "source": [
        "create temporary table banca.importo_entrata_tipo as\n",
        "select conto.id_cliente,\n",
        "sum(case when id_tipo_conto = 0 and importo > 0 then importo else 0 end) as importo_conto_base_entrata,\n",
        "sum(case when id_tipo_conto = 1 and importo > 0 then importo else 0 end) as importo_conto_business_entrata,\n",
        "sum(case when id_tipo_conto = 2 and importo > 0 then importo else 0 end) as importo_conto_privati_entrata,\n",
        "sum(case when id_tipo_conto = 3 and importo > 0 then importo else 0 end) as importo_conto_famiglie_entrata\n",
        "from banca.transazioni trans\n",
        "join banca.conto conto on trans.id_conto = conto.id_conto\n",
        "group by 1;"
      ],
      "metadata": {
        "id": "c7dfdxFIrq0o"
      },
      "execution_count": null,
      "outputs": []
    },
    {
      "cell_type": "markdown",
      "source": [
        "Query finale che opera una left join basata sull'id_cliente della tabella \"clienti\" come chiave di join, con i rispettivi id_clienti delle tabelle temporanee create precedentemente creando ogni campo con il medesimo nome."
      ],
      "metadata": {
        "id": "69T4SDxXr1oP"
      }
    },
    {
      "cell_type": "code",
      "source": [
        "select\n",
        "cli.id_cliente,\n",
        "età.età as età,\n",
        "n_trans_uscita.n_transazioni_uscita as n_transazioni_uscita,\n",
        "n_trans_entrata.n_transazioni_entrata as n_transazioni_entrata,\n",
        "importo_uscita.importo_uscita as importo_uscita,\n",
        "importo_entrata.importo_entrata as importo_entrata,\n",
        "numero_conti.numero_conti as numero_conti,\n",
        "\n",
        "conti_tipo.conto_base as conto_base,\n",
        "conti_tipo.conto_business as conto_business,\n",
        "conti_tipo.conto_privati as conto_privati,\n",
        "conti_tipo.conto_famiglie as conto_famiglie,\n",
        "\n",
        "trans_uscita_tipo.acquisto_amazon_uscita as acquisto_amazon_uscita,\n",
        "trans_uscita_tipo.rata_mutuo_uscita as rata_mutuo_uscita,\n",
        "trans_uscita_tipo.hotel_uscita as hotel_uscita,\n",
        "trans_uscita_tipo.biglietto_aereo_uscita as biglietto_aereo_uscita,\n",
        "trans_uscita_tipo.supermercato_uscita as supermercato_uscita,\n",
        "\n",
        "trans_entrata_tipo.stupendio_entrata as stupendio_entrata,\n",
        "trans_entrata_tipo.pensione_entrata as pensione_entrata,\n",
        "trans_entrata_tipo.dividendi_entrata as dividendi_entrata,\n",
        "\n",
        "importo_uscita_tipo.importo_conto_base_uscita as importo_conto_base_uscita,\n",
        "importo_uscita_tipo.importo_conto_business_uscita as importo_conto_business_uscita,\n",
        "importo_uscita_tipo.importo_conto_privati_uscita as importo_conto_privati_uscita,\n",
        "importo_uscita_tipo.importo_conto_famiglie_uscita as importo_conto_famiglie_uscita,\n",
        "importo_entrata_tipo.importo_conto_base_entrata as importo_conto_base_entrata,\n",
        "importo_entrata_tipo.importo_conto_business_entrata as importo_conto_business_entrata,\n",
        "importo_entrata_tipo.importo_conto_privati_entrata as importo_conto_privati_entrata,\n",
        "importo_entrata_tipo.importo_conto_famiglie_entrata as importo_conto_famiglie_entrata\n",
        "\n",
        "from banca.cliente cli\n",
        "left join banca.età età on età.id_cliente = cli.id_cliente\n",
        "left join banca.n_transazioni_uscita n_trans_uscita on n_trans_uscita.id_cliente = cli.id_cliente\n",
        "left join banca.n_transazioni_entrata n_trans_entrata on n_trans_entrata.id_cliente = cli.id_cliente\n",
        "left join banca.importo_uscita importo_uscita on importo_uscita.id_cliente = cli.id_cliente\n",
        "left join banca.importo_entrata importo_entrata on importo_entrata.id_cliente = cli.id_cliente\n",
        "left join banca.totale_conti numero_conti on numero_conti.id_cliente = cli.id_cliente\n",
        "left join banca.conti_tipo conti_tipo on conti_tipo.id_cliente = cli.id_cliente\n",
        "left join banca.transazioni_uscita_tipo trans_uscita_tipo on trans_uscita_tipo.id_cliente = cli.id_cliente\n",
        "left join banca.transazioni_entrata_tipo trans_entrata_tipo on trans_entrata_tipo.id_cliente = cli.id_cliente\n",
        "left join banca.importo_uscita_tipo importo_uscita_tipo on importo_uscita_tipo.id_cliente = cli.id_cliente\n",
        "left join banca.importo_entrata_tipo importo_entrata_tipo on importo_entrata_tipo.id_cliente = cli.id_cliente;"
      ],
      "metadata": {
        "id": "xTGGtd7Dr1_l"
      },
      "execution_count": null,
      "outputs": []
    },
    {
      "cell_type": "markdown",
      "source": [
        "**Soluzione alternativa.**\n",
        "\n",
        "Di seguito lo svolgimento degli stessi obbiettivi, ma con la creazione della tabella \"report\" e successivi update basati sulla view."
      ],
      "metadata": {
        "id": "KTA25NSypIhS"
      }
    },
    {
      "cell_type": "code",
      "execution_count": null,
      "metadata": {
        "id": "brZ8jdUSpv01"
      },
      "outputs": [],
      "source": [
        "create table banca.report as\n",
        "select id_cliente from banca.cliente;\n",
        "alter table banca.report\n",
        "add column età integer,\n",
        "add column n_transazioni_uscita integer,\n",
        "add column n_transazioni_entrata integer,\n",
        "add column importo_uscita float,\n",
        "add column importo_entrata float,\n",
        "add column numero_conti integer,\n",
        "add column conto_base integer,\n",
        "add column conto_business integer,\n",
        "add column conto_privati integer,\n",
        "add column conto_famiglie integer,\n",
        "add column stupendio_entrata integer,\n",
        "add column pensione_entrata integer,\n",
        "add column dividendi_entrata integer,\n",
        "add column acquisto_amazon_uscita integer,\n",
        "add column rata_mutuo_uscita integer,\n",
        "add column hotel_uscita integer,\n",
        "add column biglietto_aereo_uscita integer,\n",
        "add column supermercato_uscita integer,\n",
        "add column importo_conto_base_uscita float,\n",
        "add column importo_conto_business_uscita float,\n",
        "add column importo_conto_privati_uscita float,\n",
        "add column importo_conto_famiglie_uscita float,\n",
        "add column importo_conto_base_entrata float,\n",
        "add column importo_conto_business_entrata float,\n",
        "add column importo_conto_privati_entrata float,\n",
        "add column importo_conto_famiglie_entrata float;\n",
        "\n",
        "update banca.report as rep\n",
        "inner join banca.cliente as cli on rep.id_cliente = cli.id_cliente\n",
        "set rep.età = year(current_date()) - year(date_format(cli.data_nascita, \"%Y-%m-%d\"));\n",
        "\n",
        "create view banca.trans_temp as\n",
        "select\n",
        "trans.id_tipo_trans, trans.id_conto, trans.importo, cont.id_cliente, cont.id_tipo_conto from banca.transazioni as trans\n",
        "inner join banca.conto as cont on trans.id_conto = cont.id_conto;\n",
        "\n",
        "update banca.report as rep\n",
        "inner join (select id_cliente,\n",
        "\t\t\tsum(case when id_tipo_conto = 0 then 1 else 0 end) as conto_base,\n",
        "\t\t\tsum(case when id_tipo_conto = 1 then 1 else 0 end) as conto_business,\n",
        "\t\t\tsum(case when id_tipo_conto = 2 then 1 else 0 end) as conto_privati,\n",
        "\t\t\tsum(case when id_tipo_conto = 3 then 1 else 0 end) as conto_famiglie,\n",
        "\n",
        "      count(*) as numero_conti\n",
        "\n",
        "\t\t\tfrom banca.conto\n",
        "\t\t\tgroup by 1\n",
        ") as conti on rep.id_cliente = conti.id_cliente\n",
        "set rep.conto_base = conti.conto_base,\n",
        "\trep.conto_business = conti.conto_business,\n",
        "\trep.conto_privati = conti.conto_privati,\n",
        "\trep.conto_famiglie = conti.conto_famiglie,\n",
        "\n",
        "  rep.numero_conti = conti.numero_conti;\n",
        "\n",
        "\n",
        "update banca.report as rep\n",
        "inner join (select id_cliente,\n",
        "\n",
        "            sum(case when id_tipo_conto = 0 and importo < 0 then importo else 0 end) as importo_conto_base_uscita,\n",
        "            sum(case when id_tipo_conto = 1 and importo < 0 then importo else 0 end) as importo_conto_business_uscita,\n",
        "            sum(case when id_tipo_conto = 2 and importo < 0 then importo else 0 end) as importo_conto_privati_uscita,\n",
        "            sum(case when id_tipo_conto = 3 and importo < 0 then importo else 0 end) as importo_conto_famiglie_uscita,\n",
        "            sum(case when id_tipo_conto = 0 and importo > 0 then importo else 0 end) as importo_conto_base_entrata,\n",
        "\t\t\t      sum(case when id_tipo_conto = 1 and importo > 0 then importo else 0 end) as importo_conto_business_entrata,\n",
        "\t\t\t      sum(case when id_tipo_conto = 2 and importo > 0 then importo else 0 end) as importo_conto_privati_entrata,\n",
        "\t\t\t      sum(case when id_tipo_conto = 3 and importo > 0 then importo else 0 end) as importo_conto_famiglie_entrata,\n",
        "\n",
        "            sum(case when id_tipo_trans = 0 then 1 else 0 end) as stupendio_entrata,\n",
        "\t\t\t      sum(case when id_tipo_trans = 1 then 1 else 0 end) as pensione_entrata,\n",
        "\t\t\t      sum(case when id_tipo_trans = 2 then 1 else 0 end) as dividendi_entrata,\n",
        "\t\t\t      sum(case when id_tipo_trans = 3 then 1 else 0 end) as acquisto_amazon_uscita,\n",
        "            sum(case when id_tipo_trans = 4 then 1 else 0 end) as rata_mutuo_uscita,\n",
        "            sum(case when id_tipo_trans = 5 then 1 else 0 end) as hotel_uscita,\n",
        "            sum(case when id_tipo_trans = 6 then 1 else 0 end) as biglietto_aereo_uscita,\n",
        "            sum(case when id_tipo_trans = 7 then 1 else 0 end) as supermercato_uscita,\n",
        "\n",
        "            sum(case when id_tipo_trans in (3, 4, 5, 6, 7) then importo else 0 end) as importo_uscita,\n",
        "\t\t\t      sum(case when id_tipo_trans in (0, 1, 2) then importo else 0 end) as importo_entrata,\n",
        "\n",
        "            sum(case when id_tipo_trans in (3, 4, 5, 6, 7) then 1 else 0 end) as n_transazioni_uscita,\n",
        "\t\t\t      sum(case when id_tipo_trans in (0, 1, 2) then 1 else 0 end) as n_transazioni_entrata\n",
        "\n",
        "\n",
        "\t\t\tfrom banca.trans_temp\n",
        "\t\t\tgroup by 1\n",
        ") as importo_conto on rep.id_cliente = importo_conto.id_cliente\n",
        "set rep.importo_conto_base_uscita = importo_conto.importo_conto_base_uscita,\n",
        "\t  rep.importo_conto_business_uscita = importo_conto.importo_conto_business_uscita,\n",
        "\t  rep.importo_conto_privati_uscita = importo_conto.importo_conto_privati_uscita,\n",
        "    rep.importo_conto_famiglie_uscita = importo_conto.importo_conto_famiglie_uscita,\n",
        "\t  rep.importo_conto_base_entrata = importo_conto.importo_conto_base_entrata,\n",
        "\t  rep.importo_conto_business_entrata = importo_conto.importo_conto_business_entrata,\n",
        "\t  rep.importo_conto_privati_entrata = importo_conto.importo_conto_privati_entrata,\n",
        "\t  rep.importo_conto_famiglie_entrata = importo_conto.importo_conto_famiglie_entrata,\n",
        "\n",
        "    rep.stupendio_entrata = importo_conto.stupendio_entrata,\n",
        "\t  rep.pensione_entrata = importo_conto.pensione_entrata,\n",
        "\t  rep.dividendi_entrata = importo_conto.dividendi_entrata,\n",
        "\t  rep.acquisto_amazon_uscita = importo_conto.acquisto_amazon_uscita,\n",
        " \t  rep.rata_mutuo_uscita = importo_conto.rata_mutuo_uscita,\n",
        "  \trep.hotel_uscita = importo_conto.hotel_uscita,\n",
        " \t  rep.biglietto_aereo_uscita = importo_conto.biglietto_aereo_uscita,\n",
        "\t  rep.supermercato_uscita = importo_conto.supermercato_uscita,\n",
        "\n",
        "    rep.importo_uscita = importo_conto.importo_uscita,\n",
        "    rep.importo_entrata = importo_conto.importo_entrata,\n",
        "\n",
        "    rep.n_transazioni_uscita = importo_conto.n_transazioni_uscita,\n",
        "\t  rep.n_transazioni_entrata = importo_conto.n_transazioni_entrata;"
      ]
    },
    {
      "cell_type": "markdown",
      "source": [
        "Creazione tabella \"report\", la tabella finale che conterrà tutti gli obbiettivi di consegna. La tabella viene creata partendo dal campo id_cliente della tabella cliente."
      ],
      "metadata": {
        "id": "5ic0Oo6Kqo5O"
      }
    },
    {
      "cell_type": "code",
      "source": [
        "create table banca.report as\n",
        "select id_cliente from banca.cliente;"
      ],
      "metadata": {
        "id": "N-rACYCdrqko"
      },
      "execution_count": null,
      "outputs": []
    },
    {
      "cell_type": "markdown",
      "source": [
        "La tabella \"report\" viene modificata aggiungendo tanti campi quanti sono gli obbiettivi di consegna ognuno dei quali con il tipo di dato adeguato."
      ],
      "metadata": {
        "id": "AB7OGIThtOxO"
      }
    },
    {
      "cell_type": "code",
      "source": [
        "alter table banca.report\n",
        "add column età integer,\n",
        "add column n_transazioni_uscita integer,\n",
        "add column n_transazioni_entrata integer,\n",
        "add column importo_uscita float,\n",
        "add column importo_entrata float,\n",
        "add column numero_conti integer,\n",
        "add column conto_base integer,\n",
        "add column conto_business integer,\n",
        "add column conto_privati integer,\n",
        "add column conto_famiglie integer,\n",
        "add column stupendio_entrata integer,\n",
        "add column pensione_entrata integer,\n",
        "add column dividendi_entrata integer,\n",
        "add column acquisto_amazon_uscita integer,\n",
        "add column rata_mutuo_uscita integer,\n",
        "add column hotel_uscita integer,\n",
        "add column biglietto_aereo_uscita integer,\n",
        "add column supermercato_uscita integer,\n",
        "add column importo_conto_base_uscita float,\n",
        "add column importo_conto_business_uscita float,\n",
        "add column importo_conto_privati_uscita float,\n",
        "add column importo_conto_famiglie_uscita float,\n",
        "add column importo_conto_base_entrata float,\n",
        "add column importo_conto_business_entrata float,\n",
        "add column importo_conto_privati_entrata float,\n",
        "add column importo_conto_famiglie_entrata float;"
      ],
      "metadata": {
        "id": "vPfo9Sa5tOfk"
      },
      "execution_count": null,
      "outputs": []
    },
    {
      "cell_type": "markdown",
      "source": [
        "**Obbiettivo: Età.**"
      ],
      "metadata": {
        "id": "udhYTIqivOpp"
      }
    },
    {
      "cell_type": "markdown",
      "source": [
        "La tabella \"report\" viene aggiornata con la keyword \"update\" e successivamente viene unita consedarando i record di entrambe le tabella con un \"inner join\" alla manipolazione sulla tabella cliente, tramite la chiave \"id_cliente\".\n",
        "\n",
        "La manipolazione prevede la differenza tra l'anno della data odierna e l'anno del valore nel campo \"data_nascita\" per ottenere l'età.\n",
        "\n",
        "La \"data_nascita\" viene formattata in maniera tale da assicurare l'ordine richiesto dalla funzione year().\n",
        "\n",
        "Infine tramite la keyword \"set\" vengono aggiornati i record (precedentemente null) del campo della tabella \"report\"."
      ],
      "metadata": {
        "id": "uOuxTGOQtiEF"
      }
    },
    {
      "cell_type": "code",
      "source": [
        "update banca.report as rep\n",
        "inner join banca.cliente as cli on rep.id_cliente = cli.id_cliente\n",
        "set rep.età = year(current_date()) - year(date_format(cli.data_nascita, \"%Y-%m-%d\"));"
      ],
      "metadata": {
        "id": "YVWvWvC2tife"
      },
      "execution_count": null,
      "outputs": []
    },
    {
      "cell_type": "markdown",
      "source": [
        "Creazione di una view basata su due tabelle, con i campi d'interesse per le manipolazioni successive."
      ],
      "metadata": {
        "id": "b3p6dOFgvLQa"
      }
    },
    {
      "cell_type": "code",
      "source": [
        "create view banca.trans_temp as\n",
        "select\n",
        "trans.id_tipo_trans, trans.id_conto, trans.importo, cont.id_cliente, cont.id_tipo_conto from banca.transazioni as trans\n",
        "inner join banca.conto as cont on trans.id_conto = cont.id_conto;"
      ],
      "metadata": {
        "id": "v-Kl0rfQvLpu"
      },
      "execution_count": null,
      "outputs": []
    },
    {
      "cell_type": "markdown",
      "source": [
        "**Obbiettivi:**\n",
        "\n",
        "numero di conti posseduti per tipologia (un indicatore per tipo);\n",
        "\n",
        "numero totale di conti posseduti."
      ],
      "metadata": {
        "id": "cyfg4y9ByDPj"
      }
    },
    {
      "cell_type": "markdown",
      "source": [
        "La tabella \"report\" viene aggiornata con la keyword \"update\" e successivamente viene unita consedarando i record di entrambe le tabella con un \"inner join\" alla manipolazione sulla tabella \"conto\", tramite la chiave \"id_cliente\".\n",
        "\n",
        "\n",
        "La manipolazione prevede l'utilizzo di una maschera booleana per filtrare i record in base ai diversi valori del campo \"id_tipo_conto\" ai quali viene assegnato il valore \"1\" se coerente con il valore in esame (True) altrimenti 0(False), per poi esegurie la somma e ottenere la frequenza dei conti divisi per tipologia.\n",
        "\n",
        "\n",
        "Successivamente vegnono sommati tutti i record del campo \"numero_conti\" per ottenere il totale dei conti per id_cliente.\n",
        "\n",
        "E' sensato svolgere questi obbiettivi nello stesso update perchè si basano sulla stessa tabella (\"conto\").\n",
        "\n",
        "Infine tramite la keyword \"set\" vengono aggiornati i record (precedentemente null) del campo della tabella \"report\"."
      ],
      "metadata": {
        "id": "8Ss2KTYzvshp"
      }
    },
    {
      "cell_type": "code",
      "source": [
        "update banca.report as rep\n",
        "inner join (select id_cliente,\n",
        "\t\t\tsum(case when id_tipo_conto = 0 then 1 else 0 end) as conto_base,\n",
        "\t\t\tsum(case when id_tipo_conto = 1 then 1 else 0 end) as conto_business,\n",
        "\t\t\tsum(case when id_tipo_conto = 2 then 1 else 0 end) as conto_privati,\n",
        "\t\t\tsum(case when id_tipo_conto = 3 then 1 else 0 end) as conto_famiglie,\n",
        "\n",
        "      count(*) as numero_conti\n",
        "\n",
        "\t\t\tfrom banca.conto\n",
        "\t\t\tgroup by 1\n",
        ") as conti on rep.id_cliente = conti.id_cliente\n",
        "set rep.conto_base = conti.conto_base,\n",
        "\trep.conto_business = conti.conto_business,\n",
        "\trep.conto_privati = conti.conto_privati,\n",
        "\trep.conto_famiglie = conti.conto_famiglie,\n",
        "\n",
        "  rep.numero_conti = conti.numero_conti;"
      ],
      "metadata": {
        "id": "36Iy1Tipvsx4"
      },
      "execution_count": null,
      "outputs": []
    },
    {
      "cell_type": "markdown",
      "source": [
        "Obbiettivi:\n",
        "\n",
        "numero di transazioni in uscita su tutti i conti;\n",
        "\n",
        "numero di transazioni in entrata su tutti i conti;\n",
        "\n",
        "importo transato in uscita su tutti i conti;\n",
        "\n",
        "importo transato in entrata su tutti i conti;\n",
        "\n",
        "numero di transazioni in uscita per tipologia (un indicatore per tipo);\n",
        "\n",
        "numero di transazioni in entrata per tipologia (un indicatore per tipo);\n",
        "\n",
        "importo transato in uscita per tipologia di conto (un indicatore per tipo);\n",
        "\n",
        "importo transato in entrata per tipologia di conto (un indicatore per tipo)."
      ],
      "metadata": {
        "id": "13yHWSvRzYx7"
      }
    },
    {
      "cell_type": "markdown",
      "source": [
        "La tabella \"report\" viene aggiornata con la keyword \"update\" e successivamente viene unita consedarando i record di entrambe le tabella con un \"inner join\" alla manipolazione sulla view \"trans_temp\", tramite la chiave \"id_cliente\".\n",
        "\n",
        "La prima manipolazione prevede l'utilizzo di una maschera booleana per filtrare i record in base ai diversi valori del campo \"id_tipo_conto\" e al connettore logico \"and\" potendo cosi dividere i record in base al tipo di conto e all'importo se positivo (> di 0) o negativo (< di 0), sommando quest'ultimo e popolando il campo adeguato.\n",
        "\n",
        "La seconda manipolazione prevede l'utilizzo di una maschera booleana per filtrare i record in base ai diversi valori del campo \"id_tipo_trans\" ai quali veiene assegnato il valore \"1\" se cooerente con il valore d'interesse, per poi effettuare la somma e ottenere il numero di transazioni divise per campi.\n",
        "\n",
        "La terza e la quarta manipolazione seguno la medesima logica con la differenza che verificano se \"id_tipo_trans\" sia presente nella tupla che contiene le categorie del tipo di transazioni, nel caso torni True, somma l'importo per il campo importo oppure assegna il valore \"1\" e \"0\" ed esegie la somma per ricavare la numerosità per i campi \"transazioni_uscita/entrata\".\n",
        "\n",
        "\n",
        "\n",
        "Infine tramite la keyword \"set\" vengono aggiornati i record (precedentemente null) del campo della tabella \"report\"."
      ],
      "metadata": {
        "id": "7rT36ZQizb2i"
      }
    },
    {
      "cell_type": "code",
      "source": [
        "update banca.report as rep\n",
        "inner join (select id_cliente,\n",
        "\n",
        "            sum(case when id_tipo_conto = 0 and importo < 0 then importo else 0 end) as importo_conto_base_uscita,\n",
        "            sum(case when id_tipo_conto = 1 and importo < 0 then importo else 0 end) as importo_conto_business_uscita,\n",
        "            sum(case when id_tipo_conto = 2 and importo < 0 then importo else 0 end) as importo_conto_privati_uscita,\n",
        "            sum(case when id_tipo_conto = 3 and importo < 0 then importo else 0 end) as importo_conto_famiglie_uscita,\n",
        "            sum(case when id_tipo_conto = 0 and importo > 0 then importo else 0 end) as importo_conto_base_entrata,\n",
        "\t\t\t      sum(case when id_tipo_conto = 1 and importo > 0 then importo else 0 end) as importo_conto_business_entrata,\n",
        "\t\t\t      sum(case when id_tipo_conto = 2 and importo > 0 then importo else 0 end) as importo_conto_privati_entrata,\n",
        "\t\t\t      sum(case when id_tipo_conto = 3 and importo > 0 then importo else 0 end) as importo_conto_famiglie_entrata,\n",
        "\n",
        "            sum(case when id_tipo_trans = 0 then 1 else 0 end) as stupendio_entrata,\n",
        "\t\t\t      sum(case when id_tipo_trans = 1 then 1 else 0 end) as pensione_entrata,\n",
        "\t\t\t      sum(case when id_tipo_trans = 2 then 1 else 0 end) as dividendi_entrata,\n",
        "\t\t\t      sum(case when id_tipo_trans = 3 then 1 else 0 end) as acquisto_amazon_uscita,\n",
        "            sum(case when id_tipo_trans = 4 then 1 else 0 end) as rata_mutuo_uscita,\n",
        "            sum(case when id_tipo_trans = 5 then 1 else 0 end) as hotel_uscita,\n",
        "            sum(case when id_tipo_trans = 6 then 1 else 0 end) as biglietto_aereo_uscita,\n",
        "            sum(case when id_tipo_trans = 7 then 1 else 0 end) as supermercato_uscita,\n",
        "\n",
        "            sum(case when id_tipo_trans in (3, 4, 5, 6, 7) then importo else 0 end) as importo_uscita,\n",
        "\t\t\t      sum(case when id_tipo_trans in (0, 1, 2) then importo else 0 end) as importo_entrata,\n",
        "\n",
        "            sum(case when id_tipo_trans in (3, 4, 5, 6, 7) then 1 else 0 end) as n_transazioni_uscita,\n",
        "\t\t\t      sum(case when id_tipo_trans in (0, 1, 2) then 1 else 0 end) as n_transazioni_entrata\n",
        "\n",
        "\n",
        "\t\t\tfrom banca.trans_temp\n",
        "\t\t\tgroup by 1\n",
        ") as importo_conto on rep.id_cliente = importo_conto.id_cliente\n",
        "set rep.importo_conto_base_uscita = importo_conto.importo_conto_base_uscita,\n",
        "\t  rep.importo_conto_business_uscita = importo_conto.importo_conto_business_uscita,\n",
        "\t  rep.importo_conto_privati_uscita = importo_conto.importo_conto_privati_uscita,\n",
        "    rep.importo_conto_famiglie_uscita = importo_conto.importo_conto_famiglie_uscita,\n",
        "\t  rep.importo_conto_base_entrata = importo_conto.importo_conto_base_entrata,\n",
        "\t  rep.importo_conto_business_entrata = importo_conto.importo_conto_business_entrata,\n",
        "\t  rep.importo_conto_privati_entrata = importo_conto.importo_conto_privati_entrata,\n",
        "\t  rep.importo_conto_famiglie_entrata = importo_conto.importo_conto_famiglie_entrata,\n",
        "\n",
        "    rep.stupendio_entrata = importo_conto.stupendio_entrata,\n",
        "\t  rep.pensione_entrata = importo_conto.pensione_entrata,\n",
        "\t  rep.dividendi_entrata = importo_conto.dividendi_entrata,\n",
        "\t  rep.acquisto_amazon_uscita = importo_conto.acquisto_amazon_uscita,\n",
        " \t  rep.rata_mutuo_uscita = importo_conto.rata_mutuo_uscita,\n",
        "  \trep.hotel_uscita = importo_conto.hotel_uscita,\n",
        " \t  rep.biglietto_aereo_uscita = importo_conto.biglietto_aereo_uscita,\n",
        "\t  rep.supermercato_uscita = importo_conto.supermercato_uscita,\n",
        "\n",
        "    rep.importo_uscita = importo_conto.importo_uscita,\n",
        "    rep.importo_entrata = importo_conto.importo_entrata,\n",
        "\n",
        "    rep.n_transazioni_uscita = importo_conto.n_transazioni_uscita,\n",
        "\t  rep.n_transazioni_entrata = importo_conto.n_transazioni_entrata;"
      ],
      "metadata": {
        "id": "04mnGdz1zZCQ"
      },
      "execution_count": null,
      "outputs": []
    }
  ]
}